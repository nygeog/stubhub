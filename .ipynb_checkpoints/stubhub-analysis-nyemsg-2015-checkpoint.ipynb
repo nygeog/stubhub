{
 "cells": [
  {
   "cell_type": "code",
   "execution_count": 6,
   "metadata": {
    "collapsed": false
   },
   "outputs": [],
   "source": [
    "import pandas as pd\n",
    "import json\n",
    "from pprint import pprint\n",
    "import glob"
   ]
  },
  {
   "cell_type": "code",
   "execution_count": 7,
   "metadata": {
    "collapsed": true
   },
   "outputs": [],
   "source": [
    "def readStubHubJSON(inJSON):\n",
    "    json_data=open(inJSON).read()\n",
    "    data = json.loads(json_data)\n",
    "    \n",
    "    columns = ['scrapedatetime','showdate','totaltix','lowTicketPrice','lowWFees']\n",
    "    df = pd.DataFrame(columns=columns) #create empty dataframe with fields\n",
    "    \n",
    "    totaltix       = data[\"eventTicketListing\"][\"totalTickets\"]\n",
    "    lowTicketPrice = data[\"eventTicketListing\"][\"eventTicket\"][0][\"cp\"]\n",
    "    lowTicketWFees = data[\"eventTicketListing\"][\"eventTicket\"][0][\"tc\"][\"amount\"]\n",
    "    #print totaltix, lowTicketPrice, lowTicketWFees\n",
    "    x = [totaltix, lowTicketPrice, lowTicketWFees]\n",
    "    return x"
   ]
  },
  {
   "cell_type": "code",
   "execution_count": 8,
   "metadata": {
    "collapsed": false
   },
   "outputs": [
    {
     "name": "stdout",
     "output_type": "stream",
     "text": [
      "          datetime  showdate             datelabel  totaltix  lowTicketPrice  \\\n",
      "0   20151002 14:53  20151230            2015-12-30       218          125.00   \n",
      "1   20151002 14:58  20151230            2015-12-30       218          125.00   \n",
      "2   20151002 15:17  20151230            2015-12-30       224          110.00   \n",
      "3   20151002 19:17  20151230            2015-12-30       254          125.00   \n",
      "4   20151002 23:17  20151230            2015-12-30       264          119.99   \n",
      "5   20151003 03:17  20151230            2015-12-30       264          119.99   \n",
      "6   20151003 07:17  20151230            2015-12-30       264          119.99   \n",
      "7   20151003 11:17  20151230            2015-12-30       270          119.99   \n",
      "8   20151003 15:17  20151230            2015-12-30       272          119.99   \n",
      "9   20151003 19:17  20151230            2015-12-30       271          119.99   \n",
      "10  20151003 23:17  20151230            2015-12-30       276          117.99   \n",
      "11  20151004 03:17  20151230            2015-12-30       276          117.99   \n",
      "12  20151004 07:17  20151230            2015-12-30       275          117.99   \n",
      "13  20151004 11:17  20151230            2015-12-30       278          117.99   \n",
      "14  20151004 15:17  20151230            2015-12-30       281          117.99   \n",
      "0   20151002 14:54  20151231  2015-12-31 New Years       580          184.00   \n",
      "1   20151002 14:59  20151231  2015-12-31 New Years       580          184.00   \n",
      "2   20151002 16:17  20151231  2015-12-31 New Years       630          175.00   \n",
      "3   20151002 20:17  20151231  2015-12-31 New Years       676          174.99   \n",
      "4   20151003 00:17  20151231  2015-12-31 New Years       701          177.99   \n",
      "5   20151003 04:17  20151231  2015-12-31 New Years       708          176.71   \n",
      "6   20151003 08:17  20151231  2015-12-31 New Years       707          176.71   \n",
      "7   20151003 12:17  20151231  2015-12-31 New Years       717          176.71   \n",
      "8   20151003 16:17  20151231  2015-12-31 New Years       717          173.99   \n",
      "9   20151003 20:17  20151231  2015-12-31 New Years       715          173.99   \n",
      "10  20151004 00:17  20151231  2015-12-31 New Years       719          173.99   \n",
      "11  20151004 04:17  20151231  2015-12-31 New Years       718          173.99   \n",
      "12  20151004 08:17  20151231  2015-12-31 New Years       717          179.99   \n",
      "13  20151004 12:17  20151231  2015-12-31 New Years       711          179.99   \n",
      "14  20151004 16:17  20151231  2015-12-31 New Years       701          179.99   \n",
      "0   20151002 14:54  20160101            2016-01-01       340          120.00   \n",
      "1   20151002 15:00  20160101            2016-01-01       341          120.00   \n",
      "2   20151002 17:17  20160101            2016-01-01       384          120.00   \n",
      "3   20151002 21:17  20160101            2016-01-01       426          124.00   \n",
      "4   20151003 01:17  20160101            2016-01-01       435          124.00   \n",
      "5   20151003 05:17  20160101            2016-01-01       434          124.00   \n",
      "6   20151003 09:17  20160101            2016-01-01       435          124.00   \n",
      "7   20151003 13:17  20160101            2016-01-01       432          120.00   \n",
      "8   20151003 17:17  20160101            2016-01-01       423          120.00   \n",
      "9   20151003 21:17  20160101            2016-01-01       423          124.00   \n",
      "10  20151004 01:17  20160101            2016-01-01       427          124.00   \n",
      "11  20151004 05:17  20160101            2016-01-01       428          124.00   \n",
      "12  20151004 09:17  20160101            2016-01-01       427          124.00   \n",
      "13  20151004 13:17  20160101            2016-01-01       429          120.00   \n",
      "14  20151004 17:17  20160101            2016-01-01       428          115.00   \n",
      "0   20151002 14:54  20160102            2016-01-02       415          120.50   \n",
      "1   20151002 15:01  20160102            2016-01-02       415          120.50   \n",
      "2   20151002 18:17  20160102            2016-01-02       446          123.00   \n",
      "3   20151002 22:17  20160102            2016-01-02       475          123.00   \n",
      "4   20151003 02:17  20160102            2016-01-02       474          123.00   \n",
      "5   20151003 06:17  20160102            2016-01-02       474          119.00   \n",
      "6   20151003 10:17  20160102            2016-01-02       474          120.00   \n",
      "7   20151003 14:17  20160102            2016-01-02       473          120.00   \n",
      "8   20151003 18:17  20160102            2016-01-02       482          110.69   \n",
      "9   20151003 22:17  20160102            2016-01-02       482          113.88   \n",
      "10  20151004 02:17  20160102            2016-01-02       481          120.00   \n",
      "11  20151004 06:17  20160102            2016-01-02       480          120.00   \n",
      "12  20151004 10:17  20160102            2016-01-02       480          120.00   \n",
      "13  20151004 14:17  20160102            2016-01-02       480          119.00   \n",
      "14  20151004 18:17  20160102            2016-01-02       481          119.00   \n",
      "\n",
      "    lowTicketWFees  \n",
      "0           148.50  \n",
      "1           148.50  \n",
      "2           133.95  \n",
      "3           148.50  \n",
      "4           145.64  \n",
      "5           145.64  \n",
      "6           145.64  \n",
      "7           145.64  \n",
      "8           145.64  \n",
      "9           145.64  \n",
      "10          143.30  \n",
      "11          143.30  \n",
      "12          143.30  \n",
      "13          143.30  \n",
      "14          143.30  \n",
      "0           220.53  \n",
      "1           220.53  \n",
      "2           207.00  \n",
      "3           209.99  \n",
      "4           210.50  \n",
      "5           209.00  \n",
      "6           209.00  \n",
      "7           209.00  \n",
      "8           208.82  \n",
      "9           208.82  \n",
      "10          208.82  \n",
      "11          208.82  \n",
      "12          212.84  \n",
      "13          212.84  \n",
      "14          212.84  \n",
      "0           145.65  \n",
      "1           145.65  \n",
      "2           145.65  \n",
      "3           147.33  \n",
      "4           147.33  \n",
      "5           147.33  \n",
      "6           147.33  \n",
      "7           145.65  \n",
      "8           145.65  \n",
      "9           147.33  \n",
      "10          147.33  \n",
      "11          147.33  \n",
      "12          147.33  \n",
      "13          145.65  \n",
      "14          139.80  \n",
      "0           143.24  \n",
      "1           143.24  \n",
      "2           149.16  \n",
      "3           149.16  \n",
      "4           149.16  \n",
      "5           141.48  \n",
      "6           142.65  \n",
      "7           142.65  \n",
      "8           131.76  \n",
      "9           138.49  \n",
      "10          142.65  \n",
      "11          142.65  \n",
      "12          142.65  \n",
      "13          141.48  \n",
      "14          141.48  \n"
     ]
    }
   ],
   "source": [
    "eventList = ['9394538', '9394539', '9394540', '9394541']\n",
    "dateList  = ['20151230','20151231','20160101','20160102']\n",
    "dateLabelList  = ['2015-12-30','2015-12-31 New Years','2016-01-01','2016-01-02']\n",
    "\n",
    "columns = ['datetime','showdate','datelabel','totaltix','lowTicketPrice','lowTicketWFees']\n",
    "df = pd.DataFrame(columns=columns) #create empty dataframe with fields\n",
    "    \n",
    "for date, dateLabel in zip(dateList, dateLabelList):\n",
    "    \n",
    "    totaltixList       = []\n",
    "    lowTicketPriceList = []\n",
    "    lowTicketWFeesList = []\n",
    "    ticketData = []\n",
    "    wd = 'data/'\n",
    "    jsonFilesList = glob.glob(wd+'ph'+date+'*.json') #use glob * for ticketdate\n",
    "    \n",
    "    for jsonFile in jsonFilesList: \n",
    "        #print jsonFile\n",
    "        ioJSON = jsonFile\n",
    "        ticketData.append([jsonFile[24:32]+' '+jsonFile[32:34]+':'+jsonFile[34:36]]+[date]+[dateLabel]+readStubHubJSON(ioJSON))\n",
    "        #print ticketData\n",
    "    dfA = pd.DataFrame(ticketData) \n",
    "    dfA.columns = [columns]\n",
    "    df = df.append([dfA])\n",
    "    \n",
    "print df.head(100)"
   ]
  },
  {
   "cell_type": "code",
   "execution_count": 9,
   "metadata": {
    "collapsed": false
   },
   "outputs": [
    {
     "data": {
      "image/png": "[encoded data removed]",
      "text/plain": [
       "<matplotlib.figure.Figure at 0x11256d450>"
      ]
     },
     "metadata": {},
     "output_type": "display_data"
    },
    {
     "data": {
      "text/plain": [
       "<ggplot: (287578637)>"
      ]
     },
     "execution_count": 9,
     "metadata": {},
     "output_type": "execute_result"
    }
   ],
   "source": [
    "%matplotlib inline\n",
    "\n",
    "from ggplot import *\n",
    "from ggplot import aes\n",
    "from ggplot import meat\n",
    "\n",
    "df['Cost of Ticket ($ US) w/ Fees'] = df['lowTicketWFees']\n",
    "df['show'] = df['datelabel']\n",
    "df['Time'] = pd.to_datetime(df['datetime'])\n",
    "\n",
    "#ToDo: add datetime to title\n",
    "plot = ggplot(aes(x='Time', y='Cost of Ticket ($ US) w/ Fees', colour='show'), data=df) + geom_line() \\\n",
    "+ ggtitle(\"NYEMSG Ticket Prices on StubHub\") \\\n",
    "+ scale_x_date(labels='%b %d %y',breaks=date_breaks('day') ) \\\n",
    "+ geom_line(size=2.) \n",
    "\n",
    "#ggsave(plot, \"ph_nyemsg_prices_stubhub.png\")\n",
    "plot"
   ]
  },
  {
   "cell_type": "code",
   "execution_count": null,
   "metadata": {
    "collapsed": false
   },
   "outputs": [],
   "source": []
  },
  {
   "cell_type": "code",
   "execution_count": null,
   "metadata": {
    "collapsed": false
   },
   "outputs": [],
   "source": []
  },
  {
   "cell_type": "code",
   "execution_count": 59,
   "metadata": {
    "collapsed": false
   },
   "outputs": [],
   "source": [
    "theURL = 'https://dms2203.cartodb.com/api/v2/sql?filename=beh_walkability_ct2010.csv&format=csv&q=SELECT geoid,t10walkc FROM ct10 WHERE t10walkc <= 4 '\n",
    "\n",
    "theFile = 'test2.csv'\n",
    "\n",
    "import urllib\n",
    "urllib.urlretrieve(theURL, theFile)\n",
    "\n",
    "df = pd.read_csv(theFile)\n",
    "\n",
    "#df"
   ]
  },
  {
   "cell_type": "code",
   "execution_count": null,
   "metadata": {
    "collapsed": true
   },
   "outputs": [],
   "source": []
  },
  {
   "cell_type": "code",
   "execution_count": 14,
   "metadata": {
    "collapsed": false
   },
   "outputs": [
    {
     "name": "stdout",
     "output_type": "stream",
     "text": [
      "total tickets: 224\n",
      "110.0\n",
      "133.95\n"
     ]
    }
   ],
   "source": [
    "\n",
    "#print 'total tickets: ' + str(totaltix)\n",
    "#print lowTicketPrice\n",
    "#print lowTicketWFees\n",
    "\n",
    "# \"tc\": {\n",
    "#           \"amount\": 133.95,\n",
    "#           \"currency\": \"USD\"\n",
    "#         },\n",
    "#         \"fv\": null,\n",
    "#         \"la\": null,\n",
    "#         \"li\": null,\n",
    "#         \"dm\": null,\n",
    "#         \"dt\": [\n",
    "#           5\n",
    "#         ],\n",
    "#         \"pm\": {\n",
    "#           \"amount\": 110,\n",
    "#           \"currency\": \"USD\"\n",
    "#         },"
   ]
  }
 ],
 "metadata": {
  "kernelspec": {
   "display_name": "Python 2",
   "language": "python",
   "name": "python2"
  },
  "language_info": {
   "codemirror_mode": {
    "name": "ipython",
    "version": 2
   },
   "file_extension": ".py",
   "mimetype": "text/x-python",
   "name": "python",
   "nbconvert_exporter": "python",
   "pygments_lexer": "ipython2",
   "version": "2.7.8"
  }
 },
 "nbformat": 4,
 "nbformat_minor": 0
}
