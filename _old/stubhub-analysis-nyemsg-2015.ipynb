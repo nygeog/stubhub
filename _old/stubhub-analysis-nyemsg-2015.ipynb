{
 "cells": [
  {
   "cell_type": "code",
   "execution_count": 1,
   "metadata": {
    "collapsed": false
   },
   "outputs": [],
   "source": [
    "import pandas as pd\n",
    "import json\n",
    "from pprint import pprint\n",
    "import glob"
   ]
  },
  {
   "cell_type": "code",
   "execution_count": 2,
   "metadata": {
    "collapsed": true
   },
   "outputs": [],
   "source": [
    "def readStubHubJSON(inJSON):\n",
    "    json_data=open(inJSON).read()\n",
    "    data = json.loads(json_data)\n",
    "    \n",
    "    columns = ['scrapedatetime','showdate','totaltix','lowTicketPrice','lowWFees']\n",
    "    df = pd.DataFrame(columns=columns) #create empty dataframe with fields\n",
    "    \n",
    "    totaltix       = data[\"eventTicketListing\"][\"totalTickets\"]\n",
    "    lowTicketPrice = data[\"eventTicketListing\"][\"eventTicket\"][0][\"cp\"]\n",
    "    lowTicketWFees = data[\"eventTicketListing\"][\"eventTicket\"][0][\"tc\"][\"amount\"]\n",
    "    #print totaltix, lowTicketPrice, lowTicketWFees\n",
    "    x = [totaltix, lowTicketPrice, lowTicketWFees]\n",
    "    return x"
   ]
  },
  {
   "cell_type": "code",
   "execution_count": 3,
   "metadata": {
    "collapsed": false
   },
   "outputs": [
    {
     "name": "stdout",
     "output_type": "stream",
     "text": [
      "          datetime  showdate   datelabel  totaltix  lowTicketPrice  \\\n",
      "0   20151002 14:53  20151230  2015-12-30       218          125.00   \n",
      "1   20151002 14:58  20151230  2015-12-30       218          125.00   \n",
      "2   20151002 15:17  20151230  2015-12-30       224          110.00   \n",
      "3   20151002 19:17  20151230  2015-12-30       254          125.00   \n",
      "4   20151002 23:17  20151230  2015-12-30       264          119.99   \n",
      "5   20151003 03:17  20151230  2015-12-30       264          119.99   \n",
      "6   20151003 07:17  20151230  2015-12-30       264          119.99   \n",
      "7   20151003 11:17  20151230  2015-12-30       270          119.99   \n",
      "8   20151003 15:17  20151230  2015-12-30       272          119.99   \n",
      "9   20151003 19:17  20151230  2015-12-30       271          119.99   \n",
      "10  20151003 23:17  20151230  2015-12-30       276          117.99   \n",
      "11  20151004 03:17  20151230  2015-12-30       276          117.99   \n",
      "12  20151004 07:17  20151230  2015-12-30       275          117.99   \n",
      "13  20151004 11:17  20151230  2015-12-30       278          117.99   \n",
      "14  20151004 15:17  20151230  2015-12-30       281          117.99   \n",
      "15  20151004 19:17  20151230  2015-12-30       281          116.98   \n",
      "16  20151004 23:18  20151230  2015-12-30       280          114.99   \n",
      "17  20151005 03:18  20151230  2015-12-30       282          114.99   \n",
      "18  20151005 07:18  20151230  2015-12-30       281          114.99   \n",
      "19  20151005 11:18  20151230  2015-12-30       289          114.99   \n",
      "20  20151005 15:18  20151230  2015-12-30       292          116.52   \n",
      "21  20151005 19:18  20151230  2015-12-30       295          116.52   \n",
      "22  20151005 23:18  20151230  2015-12-30       297          110.00   \n",
      "23  20151006 03:18  20151230  2015-12-30       296          110.00   \n",
      "24  20151006 07:18  20151230  2015-12-30       296          110.00   \n",
      "25  20151006 11:18  20151230  2015-12-30       298          110.00   \n",
      "26  20151006 15:18  20151230  2015-12-30       300          110.00   \n",
      "27  20151006 19:18  20151230  2015-12-30       299          110.00   \n",
      "28  20151006 23:18  20151230  2015-12-30       302          110.00   \n",
      "29  20151007 03:18  20151230  2015-12-30       302          110.00   \n",
      "..             ...       ...         ...       ...             ...   \n",
      "70  20151013 23:19  20151230  2015-12-30       323          104.00   \n",
      "71  20151014 03:19  20151230  2015-12-30       324          104.00   \n",
      "72  20151014 07:19  20151230  2015-12-30       324          104.00   \n",
      "73  20151014 11:19  20151230  2015-12-30       322          100.00   \n",
      "74  20151014 15:19  20151230  2015-12-30       324          100.00   \n",
      "75  20151014 19:19  20151230  2015-12-30       326          100.00   \n",
      "76  20151014 23:19  20151230  2015-12-30       329          100.00   \n",
      "77  20151015 03:19  20151230  2015-12-30       328          100.00   \n",
      "78  20151015 07:19  20151230  2015-12-30       328          100.00   \n",
      "79  20151015 11:20  20151230  2015-12-30       328          100.00   \n",
      "80  20151015 15:20  20151230  2015-12-30       328          100.00   \n",
      "81  20151015 19:20  20151230  2015-12-30       326          100.00   \n",
      "82  20151015 23:20  20151230  2015-12-30       326          100.00   \n",
      "83  20151016 03:20  20151230  2015-12-30       327          100.00   \n",
      "84  20151016 07:20  20151230  2015-12-30       327          100.00   \n",
      "85  20151016 11:20  20151230  2015-12-30       325          100.00   \n",
      "86  20151016 15:20  20151230  2015-12-30       325          100.00   \n",
      "87  20151016 19:20  20151230  2015-12-30       326          100.00   \n",
      "88  20151016 23:20  20151230  2015-12-30       327          100.00   \n",
      "89  20151017 03:20  20151230  2015-12-30       327          100.00   \n",
      "90  20151017 07:20  20151230  2015-12-30       327          100.00   \n",
      "91  20151017 11:20  20151230  2015-12-30       327          100.00   \n",
      "92  20151017 15:20  20151230  2015-12-30       332          100.00   \n",
      "93  20151017 19:20  20151230  2015-12-30       333           95.00   \n",
      "94  20151017 23:20  20151230  2015-12-30       334           95.00   \n",
      "95  20151018 03:20  20151230  2015-12-30       334           95.00   \n",
      "96  20151018 07:20  20151230  2015-12-30       334           95.00   \n",
      "97  20151018 11:20  20151230  2015-12-30       334           95.00   \n",
      "98  20151018 15:20  20151230  2015-12-30       337           95.00   \n",
      "99  20151018 19:20  20151230  2015-12-30       338           95.00   \n",
      "\n",
      "    lowTicketWFees  \n",
      "0           148.50  \n",
      "1           148.50  \n",
      "2           133.95  \n",
      "3           148.50  \n",
      "4           145.64  \n",
      "5           145.64  \n",
      "6           145.64  \n",
      "7           145.64  \n",
      "8           145.64  \n",
      "9           145.64  \n",
      "10          143.30  \n",
      "11          143.30  \n",
      "12          143.30  \n",
      "13          143.30  \n",
      "14          143.30  \n",
      "15          142.12  \n",
      "16          139.79  \n",
      "17          139.79  \n",
      "18          139.79  \n",
      "19          139.79  \n",
      "20          141.58  \n",
      "21          141.58  \n",
      "22          133.95  \n",
      "23          133.95  \n",
      "24          133.95  \n",
      "25          130.95  \n",
      "26          130.95  \n",
      "27          130.95  \n",
      "28          130.95  \n",
      "29          130.95  \n",
      "..             ...  \n",
      "70          126.93  \n",
      "71          126.93  \n",
      "72          126.93  \n",
      "73          122.25  \n",
      "74          122.25  \n",
      "75          122.25  \n",
      "76          122.25  \n",
      "77          122.25  \n",
      "78          122.25  \n",
      "79          122.25  \n",
      "80          122.25  \n",
      "81          122.25  \n",
      "82          122.25  \n",
      "83          122.25  \n",
      "84          122.25  \n",
      "85          122.25  \n",
      "86          122.25  \n",
      "87          122.25  \n",
      "88          122.25  \n",
      "89          122.25  \n",
      "90          122.25  \n",
      "91          122.25  \n",
      "92          122.25  \n",
      "93          116.40  \n",
      "94          116.40  \n",
      "95          116.40  \n",
      "96          116.40  \n",
      "97          116.40  \n",
      "98          116.40  \n",
      "99          116.40  \n",
      "\n",
      "[100 rows x 6 columns]\n"
     ]
    }
   ],
   "source": [
    "eventList = ['9394538', '9394539', '9394540', '9394541']\n",
    "dateList  = ['20151230','20151231','20160101','20160102']\n",
    "dateLabelList  = ['2015-12-30','2015-12-31 New Years','2016-01-01','2016-01-02']\n",
    "\n",
    "columns = ['datetime','showdate','datelabel','totaltix','lowTicketPrice','lowTicketWFees']\n",
    "df = pd.DataFrame(columns=columns) #create empty dataframe with fields\n",
    "    \n",
    "for date, dateLabel in zip(dateList, dateLabelList):\n",
    "    \n",
    "    totaltixList       = []\n",
    "    lowTicketPriceList = []\n",
    "    lowTicketWFeesList = []\n",
    "    ticketData = []\n",
    "    wd = 'data/'\n",
    "    jsonFilesList = glob.glob(wd+'ph'+date+'*.json') #use glob * for ticketdate\n",
    "    \n",
    "    for jsonFile in jsonFilesList: \n",
    "        #print jsonFile\n",
    "        ioJSON = jsonFile\n",
    "        ticketData.append([jsonFile[24:32]+' '+jsonFile[32:34]+':'+jsonFile[34:36]]+[date]+[dateLabel]+readStubHubJSON(ioJSON))\n",
    "        #print ticketData\n",
    "    dfA = pd.DataFrame(ticketData) \n",
    "    dfA.columns = [columns]\n",
    "    df = df.append([dfA])\n",
    "    \n",
    "print df.head(10)"
   ]
  },
  {
   "cell_type": "code",
   "execution_count": 4,
   "metadata": {
    "collapsed": false
   },
   "outputs": [
    {
     "data": {,
      "text/plain": [
       "<matplotlib.figure.Figure at 0x11096f290>"

      ]
     },
     "metadata": {},
     "output_type": "display_data"
    },
    {
     "data": {
      "text/plain": [

      ]
     },
     "execution_count": 4,
     "metadata": {},
     "output_type": "execute_result"
    }
   ],
   "source": [
    "%matplotlib inline\n",
    "\n",
    "from ggplot import *\n",
    "from ggplot import aes\n",
    "from ggplot import meat\n",
    "\n",
    "df['Cost of Ticket ($ US) w/ Fees'] = df['lowTicketWFees']\n",
    "df['show'] = df['datelabel']\n",
    "df['Time'] = pd.to_datetime(df['datetime'])\n",
    "\n",
    "#ToDo: add datetime to title\n",
    "plot = ggplot(aes(x='Time', y='Cost of Ticket ($ US) w/ Fees', colour='show'), data=df) + geom_line() \\\n",
    "+ ggtitle(\"NYEMSG Ticket Prices on StubHub\") \\\n",
    "+ scale_x_date(labels='%b %d %y',breaks=date_breaks('day') ) \\\n",
    "+ geom_line(size=2.) \n",
    "\n",
    "\n",
    "plot"
   ]
  },
  {
   "cell_type": "code",
   "execution_count": 8,
   "metadata": {
    "collapsed": false
   },
   "outputs": [
    {
     "name": "stderr",
     "output_type": "stream",
     "text": [
      "Saving 11.0 x 8.0 in image.\n"
     ]
    }
   ],
   "source": [
    "ggsave(plot, \"ph_nyemsg_prices_stubhub20151007.png\")\n",
    "\n",
    "#ToDo: a plot of count of tickets available by show (similar to above, but count, not prices) chart"
   ]
  },
  {
   "cell_type": "code",
   "execution_count": null,
   "metadata": {
    "collapsed": false
   },
   "outputs": [],
   "source": []
  },
  {
   "cell_type": "code",
   "execution_count": 59,
   "metadata": {
    "collapsed": false
   },
   "outputs": [],
   "source": [
    "theURL = 'https://dms2203.cartodb.com/api/v2/sql?filename=beh_walkability_ct2010.csv&format=csv&q=SELECT geoid,t10walkc FROM ct10 WHERE t10walkc <= 4 '\n",
    "\n",
    "theFile = 'test2.csv'\n",
    "\n",
    "import urllib\n",
    "urllib.urlretrieve(theURL, theFile)\n",
    "\n",
    "df = pd.read_csv(theFile)\n",
    "\n",
    "#df"
   ]
  },
  {
   "cell_type": "code",
   "execution_count": null,
   "metadata": {
    "collapsed": true
   },
   "outputs": [],
   "source": []
  },
  {
   "cell_type": "code",
   "execution_count": 14,
   "metadata": {
    "collapsed": false
   },
   "outputs": [
    {
     "name": "stdout",
     "output_type": "stream",
     "text": [
      "total tickets: 224\n",
      "110.0\n",
      "133.95\n"
     ]
    }
   ],
   "source": [
    "\n",
    "#print 'total tickets: ' + str(totaltix)\n",
    "#print lowTicketPrice\n",
    "#print lowTicketWFees\n",
    "\n",
    "# \"tc\": {\n",
    "#           \"amount\": 133.95,\n",
    "#           \"currency\": \"USD\"\n",
    "#         },\n",
    "#         \"fv\": null,\n",
    "#         \"la\": null,\n",
    "#         \"li\": null,\n",
    "#         \"dm\": null,\n",
    "#         \"dt\": [\n",
    "#           5\n",
    "#         ],\n",
    "#         \"pm\": {\n",
    "#           \"amount\": 110,\n",
    "#           \"currency\": \"USD\"\n",
    "#         },"
   ]
  }
 ],
 "metadata": {
  "kernelspec": {
   "display_name": "Python 2",
   "language": "python",
   "name": "python2"
  },
  "language_info": {
   "codemirror_mode": {
    "name": "ipython",
    "version": 2
   },
   "file_extension": ".py",
   "mimetype": "text/x-python",
   "name": "python",
   "nbconvert_exporter": "python",
   "pygments_lexer": "ipython2",
   "version": "2.7.8"
  }
 },
 "nbformat": 4,
 "nbformat_minor": 0
}
